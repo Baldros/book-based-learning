{
 "cells": [
  {
   "cell_type": "markdown",
   "id": "3866746f-fc81-4b3d-ab6b-f1e596c91d80",
   "metadata": {},
   "source": [
    "# Apresentação:\n",
    "\n",
    "O objetivo desse código é estudar sobre a **Distribuições Amostrais** e para isso, será utilizado o livro **Practical Statistics for Data Scientists** de *Peter Bruce*, *Andrew Bruce* & *Peter Gedeck*.\n",
    "\n",
    "## Material de Apoio:\n",
    "* **Statistical Inference** de *George Casella* & *Roger L. Berger*;\n",
    "* **Probability and Statistics** de *Morris H. DeGroot* & *Mark j. Schervish*; e\n",
    "* **Notas de aula do Curso de Inferência I** da *Disciplina Regular da UFRJ*."
   ]
  },
  {
   "cell_type": "code",
   "execution_count": null,
   "id": "7eeea31a-2976-4c30-bd86-5eb047e530e3",
   "metadata": {},
   "outputs": [],
   "source": []
  }
 ],
 "metadata": {
  "kernelspec": {
   "display_name": "Python 3 (ipykernel)",
   "language": "python",
   "name": "python3"
  },
  "language_info": {
   "codemirror_mode": {
    "name": "ipython",
    "version": 3
   },
   "file_extension": ".py",
   "mimetype": "text/x-python",
   "name": "python",
   "nbconvert_exporter": "python",
   "pygments_lexer": "ipython3",
   "version": "3.10.13"
  }
 },
 "nbformat": 4,
 "nbformat_minor": 5
}
