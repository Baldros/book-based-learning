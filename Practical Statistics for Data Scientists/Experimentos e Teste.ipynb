{
 "cells": [
  {
   "attachments": {
    "c5f86446-8923-43d2-9226-7660f55615e8.png": {
     "image/png": "[encoded data removed]"
    }
   },
   "cell_type": "markdown",
   "id": "cbeb0564-2606-4087-80a8-b73c3d8369d5",
   "metadata": {},
   "source": [
    "# Experimentos Estatísticos e Teste de significância\n",
    "\n",
    "O *design* de experimentos é um pilar fundamental da prática da estatística, com aplicações em praticamente todas as áreas de pesquisa. **O objetivo é projetar um experimento para confirmar ou rejeitar uma hipótese**. Cientistas de dados frequentemente precisam conduzir experimentos contínuos, especialmente em relação à interface do usuário e marketing de produtos. Este capítulo revisa o design experimental tradicional e discute alguns desafios comuns na ciência de dados. Também aborda alguns conceitos frequentemente citados em inferência estatística e explica seu significado e relevância (ou falta de relevância) para a ciência de dados.\n",
    "\n",
    "Sempre que vê-se referências a significância estatística, **testes-t** ou ***p-values***, geralmente é no contexto do “*pipeline*” clássico de inferência estatística. Este processo começa com uma hipótese (“o medicamento A é melhor do que o medicamento padrão existente” ou “o preço A é mais lucrativo do que o preço B existente”). Um experimento (que pode ser um teste A/B) é projetado para testar a hipótese, de forma que, idealmente, forneça resultados conclusivos. Os dados são coletados e analisados, e então uma conclusão é tirada. O termo inferência reflete a intenção de aplicar os resultados do experimento, que envolvem um conjunto limitado de dados, a um processo ou população maior.\n",
    "\n",
    "![image.png](attachment:c5f86446-8923-43d2-9226-7660f55615e8.png)\n",
    "\n",
    "## Material:\n",
    "* **Practical Statistics for Data Scientists** de *Peter Bruce*, *Andrew Bruce* & *Peter Gedeck*.\n",
    "\n",
    "## Material de Apoio:\n",
    "* **Statistical Inference** de *George Casella* & *Roger L. Berger*;\n",
    "* **Probability and Statistics** de *Morris H. DeGroot* & *Mark j. Schervish*; e\n",
    "* **Notas de aula do Curso de Inferência I** da *Disciplina Regular da UFRJ*.\n"
   ]
  },
  {
   "cell_type": "code",
   "execution_count": 16,
   "id": "c2a1b556-eeb2-4105-a7d8-6039bf3a0532",
   "metadata": {},
   "outputs": [],
   "source": [
    "# Bibliotecas Utilizadas:\n",
    "%matplotlib inline\n",
    "\n",
    "from pathlib import Path\n",
    "import random\n",
    "\n",
    "import pandas as pd\n",
    "import numpy as np\n",
    "\n",
    "from scipy import stats\n",
    "import statsmodels.api as sm\n",
    "import statsmodels.formula.api as smf\n",
    "from statsmodels.stats import power\n",
    "\n",
    "import matplotlib.pylab as plt"
   ]
  },
  {
   "cell_type": "code",
   "execution_count": 17,
   "id": "220a5c76-15ed-4020-bb7e-1f444bfbeca4",
   "metadata": {},
   "outputs": [],
   "source": [
    "try:\n",
    "    import common\n",
    "    DATA = common.dataDirectory()\n",
    "except ImportError:\n",
    "    DATA = Path().resolve() / 'data'"
   ]
  },
  {
   "cell_type": "code",
   "execution_count": 18,
   "id": "f0b9187e-29bd-45bc-af52-e6973087d421",
   "metadata": {},
   "outputs": [],
   "source": [
    "# Datasets:\n",
    "WEB_PAGE_DATA_CSV = DATA / 'web_page_data.csv'\n",
    "FOUR_SESSIONS_CSV = DATA / 'four_sessions.csv'\n",
    "CLICK_RATE_CSV = DATA / 'click_rates.csv'\n",
    "IMANISHI_CSV = DATA / 'imanishi_data.csv'"
   ]
  },
  {
   "cell_type": "markdown",
   "id": "45fd2247-c8aa-47b9-90d0-00335e141f2c",
   "metadata": {},
   "source": [
    "# Teste A/B\n",
    "\n",
    "Um **teste A/B** é um experimento com dois grupos para determinar qual dos dois tratamentos, produtos, procedimentos ou similares é superior. Frequentemente, um dos dois tratamentos é o tratamento padrão existente ou nenhum tratamento. Se um tratamento padrão (ou nenhum) for usado, ele é chamado de **controle**. Uma hipótese típica é que um novo tratamento é melhor do que o controle."
   ]
  },
  {
   "cell_type": "code",
   "execution_count": 19,
   "id": "4644eeaa-3452-4959-9c50-c0c437307d10",
   "metadata": {},
   "outputs": [
    {
     "data": {
      "text/html": [
       "<div>\n",
       "<style scoped>\n",
       "    .dataframe tbody tr th:only-of-type {\n",
       "        vertical-align: middle;\n",
       "    }\n",
       "\n",
       "    .dataframe tbody tr th {\n",
       "        vertical-align: top;\n",
       "    }\n",
       "\n",
       "    .dataframe thead th {\n",
       "        text-align: right;\n",
       "    }\n",
       "</style>\n",
       "<table border=\"1\" class=\"dataframe\">\n",
       "  <thead>\n",
       "    <tr style=\"text-align: right;\">\n",
       "      <th></th>\n",
       "      <th>group</th>\n",
       "      <th>conversion</th>\n",
       "    </tr>\n",
       "  </thead>\n",
       "  <tbody>\n",
       "    <tr>\n",
       "      <th>0</th>\n",
       "      <td>A</td>\n",
       "      <td>0</td>\n",
       "    </tr>\n",
       "    <tr>\n",
       "      <th>1</th>\n",
       "      <td>B</td>\n",
       "      <td>0</td>\n",
       "    </tr>\n",
       "    <tr>\n",
       "      <th>2</th>\n",
       "      <td>A</td>\n",
       "      <td>0</td>\n",
       "    </tr>\n",
       "    <tr>\n",
       "      <th>3</th>\n",
       "      <td>A</td>\n",
       "      <td>1</td>\n",
       "    </tr>\n",
       "    <tr>\n",
       "      <th>4</th>\n",
       "      <td>A</td>\n",
       "      <td>0</td>\n",
       "    </tr>\n",
       "    <tr>\n",
       "      <th>...</th>\n",
       "      <td>...</td>\n",
       "      <td>...</td>\n",
       "    </tr>\n",
       "    <tr>\n",
       "      <th>995</th>\n",
       "      <td>A</td>\n",
       "      <td>0</td>\n",
       "    </tr>\n",
       "    <tr>\n",
       "      <th>996</th>\n",
       "      <td>A</td>\n",
       "      <td>0</td>\n",
       "    </tr>\n",
       "    <tr>\n",
       "      <th>997</th>\n",
       "      <td>B</td>\n",
       "      <td>0</td>\n",
       "    </tr>\n",
       "    <tr>\n",
       "      <th>998</th>\n",
       "      <td>B</td>\n",
       "      <td>0</td>\n",
       "    </tr>\n",
       "    <tr>\n",
       "      <th>999</th>\n",
       "      <td>A</td>\n",
       "      <td>1</td>\n",
       "    </tr>\n",
       "  </tbody>\n",
       "</table>\n",
       "<p>1000 rows × 2 columns</p>\n",
       "</div>"
      ],
      "text/plain": [
       "    group  conversion\n",
       "0       A           0\n",
       "1       B           0\n",
       "2       A           0\n",
       "3       A           1\n",
       "4       A           0\n",
       "..    ...         ...\n",
       "995     A           0\n",
       "996     A           0\n",
       "997     B           0\n",
       "998     B           0\n",
       "999     A           1\n",
       "\n",
       "[1000 rows x 2 columns]"
      ]
     },
     "execution_count": 19,
     "metadata": {},
     "output_type": "execute_result"
    }
   ],
   "source": [
    "# Simulando dados\n",
    "np.random.seed(42)\n",
    "data = {\n",
    "    'group': np.random.choice(['A', 'B'], size=1000),\n",
    "    'conversion': np.random.choice([0, 1], size=1000, p=[0.7, 0.3])\n",
    "}\n",
    "\n",
    "df = pd.DataFrame(data);df"
   ]
  },
  {
   "cell_type": "code",
   "execution_count": 20,
   "id": "f798caab-d70f-4d30-80ba-09722e7e357b",
   "metadata": {},
   "outputs": [
    {
     "name": "stdout",
     "output_type": "stream",
     "text": [
      "Taxa de conversão por grupo:\n",
      "group\n",
      "A    0.291837\n",
      "B    0.298039\n",
      "Name: conversion, dtype: float64\n"
     ]
    }
   ],
   "source": [
    "# Calculando a taxa de conversão para cada grupo\n",
    "conversion_rates = df.groupby('group')['conversion'].mean()\n",
    "print(\"Taxa de conversão por grupo:\")\n",
    "print(conversion_rates)"
   ]
  },
  {
   "cell_type": "code",
   "execution_count": 21,
   "id": "c02b73b8-8bc3-43b2-9aab-dda72af4898b",
   "metadata": {},
   "outputs": [
    {
     "name": "stdout",
     "output_type": "stream",
     "text": [
      "Resultado do Teste T:\n",
      "t-statistic: -0.2147921040856866, p-value: 0.8299732907388063\n"
     ]
    }
   ],
   "source": [
    "# Agrupando dados de cada grupo\n",
    "group_a = df[df['group'] == 'A']['conversion']\n",
    "group_b = df[df['group'] == 'B']['conversion']\n",
    "\n",
    "# Realizando o teste t\n",
    "t_stat, p_value = stats.ttest_ind(group_a, group_b)\n",
    "print(\"Resultado do Teste T:\")\n",
    "print(f\"t-statistic: {t_stat}, p-value: {p_value}\")"
   ]
  },
  {
   "cell_type": "code",
   "execution_count": 22,
   "id": "d8895590-fd3a-4734-a029-7acdc2979089",
   "metadata": {},
   "outputs": [
    {
     "name": "stdout",
     "output_type": "stream",
     "text": [
      "Não rejeitamos a hipótese nula. Não há diferença significativa entre os grupos.\n"
     ]
    }
   ],
   "source": [
    "# Interpretando o resultado\n",
    "alpha = 0.05\n",
    "if p_value < alpha:\n",
    "    print(\"Rejeitamos a hipótese nula. Há uma diferença significativa entre os grupos.\")\n",
    "else:\n",
    "    print(\"Não rejeitamos a hipótese nula. Não há diferença significativa entre os grupos.\")"
   ]
  },
  {
   "cell_type": "markdown",
   "id": "831f7324-6e21-46d8-a853-e2d64b73d2e7",
   "metadata": {},
   "source": [
    "**Ideias Principais:**\n",
    "\n",
    "* Os sujeitos são designados a dois (ou mais) grupos que são tratados exatamente da mesma forma, exceto que o tratamento em estudo difere de um grupo para outro.\n",
    "\n",
    "* Idealmente, os sujeitos são designados aleatoriamente aos grupos.\n",
    "\n",
    "Ou seja, teste A/B é apenas um procedimento, procedimento cuja o qual compara dois tipos de abordagens diferentes. Poderia ser por mais procedimentos? Um teste A/B/C/D... etc? Poderia. A principal questão aqui é saber trabalhar com testes estatísticos, é isso que realmente importa aqui."
   ]
  },
  {
   "cell_type": "markdown",
   "id": "b612ce56-4ca6-4eb1-b436-f2853158d52b",
   "metadata": {},
   "source": [
    "# Teste de Hipótese:\n",
    "\n",
    "Suponha que $X_1, \\ldots, X_n$ formem uma amostra aleatória de uma distribuição cuja função de densidade de probabilidade (p.d.f.) ou função de probabilidade (p.f.) é $f(x|\\theta)$, onde o valor do parâmetro $\\theta \\in \\Theta$; $\\Theta_0$ e $\\Theta_1$ são conjuntos disjuntos com $\\Theta_0 \\cup \\Theta_1 = \\Theta$. Deste modo, definimos o teste de hipotese como:\n",
    "\n",
    "$$\n",
    "\\begin{align*}\n",
    "H_0&: \\theta \\in \\Theta_0 \\\\\n",
    "H_1&: \\theta \\in \\Theta_1 \\\\\n",
    "\\end{align*}$$\n",
    "\n",
    "Onde,\n",
    "* $H_0$ é a **hipótese nula**. Representa o “*status quo*” ou a ausência de efeito.\n",
    "* $H_1$ é a **hipótese alternativa**. Representa a hipótese de pesquisa, indicando a presença de um efeito."
   ]
  },
  {
   "cell_type": "code",
   "execution_count": 23,
   "id": "3d0772c8-b3d0-4901-804d-d3577f09a96e",
   "metadata": {},
   "outputs": [
    {
     "data": {
      "text/plain": [
       "array([-2.49940571,  2.29094257, -1.38957247, -1.64539875,  1.02257043,\n",
       "        2.43975241,  1.38427282,  0.56390912,  0.59475434,  0.85341556,\n",
       "        0.75892859,  0.28119142,  0.1042011 , -0.06259313, -0.75396459,\n",
       "       -0.28067508, -1.69295681, -0.09833963, -0.98859111, -1.10358932,\n",
       "        0.17989415,  1.39200229,  0.91831661, -1.5705006 , -0.98962814,\n",
       "        0.94077119, -0.98248739, -0.22463315,  0.5500521 , -0.96834445])"
      ]
     },
     "execution_count": 23,
     "metadata": {},
     "output_type": "execute_result"
    }
   ],
   "source": [
    "# Tamanho da amostra\n",
    "n = 30\n",
    "\n",
    "# Criando a sequência X_1, ..., X_n\n",
    "X = np.random.normal(loc=0, scale=1, size=n);X"
   ]
  },
  {
   "cell_type": "markdown",
   "id": "b00b4ad7-814e-4e8f-81e0-5b27f580a390",
   "metadata": {},
   "source": [
    "## Região crítica e estatísticas de teste\n",
    "\n",
    "A região critica representa o conjunto de valores da estatística de teste que leva à rejeição da hipótese nula $H_0$. Em outras palavras, se a estatística de teste cair dentro da região crítica, concluímos que há evidências suficientes para rejeitar $H_0$ em favor da hipótese alternativa $H_1$.\n",
    "\n",
    "A ideia do teste de hípose é calcular de distância entre duas medidas de probabilidade. Para isso, podemos pensar em escolher um número $c$ e rejeitar $H_0$ se a distância da **estatística de teste** ao **valor da hipótese nula** for **maior** que $c$. Uma maneira de expressar isso é dividindo o conjunto $S$ de todos os possíveis vetores de dados $x = (x_1, \\ldots, x_n)$ (o espaço amostral) em dois conjuntos:\n",
    "\n",
    "$$S_0 = \\{x : -c \\leq X_n - \\mu_0 \\leq c\\}\\ e\\ S_1 = S_0^C$$"
   ]
  },
  {
   "cell_type": "code",
   "execution_count": 24,
   "id": "a00486d3-4932-4664-9473-37a6703b3bfa",
   "metadata": {},
   "outputs": [],
   "source": [
    "# Importando Função norm: \n",
    "from scipy.stats import norm # Esta função é capaz de retornar uma das sete normas matriciais diferentes, dependendo do valor do parâmetro ord."
   ]
  },
  {
   "cell_type": "code",
   "execution_count": 25,
   "id": "0599f56d-96f4-4a3c-bdfc-c0233bbc0b1f",
   "metadata": {},
   "outputs": [],
   "source": [
    "# Definindo os parâmetros\n",
    "mu_0 = 0  # Média sob a hipótese nula\n",
    "sigma = 1  # Desvio padrão conhecido\n",
    "alpha = 0.05  # Nível de significância"
   ]
  },
  {
   "cell_type": "markdown",
   "id": "1cfbf23d-e6f3-4c00-b988-e127aecb732d",
   "metadata": {},
   "source": [
    "## Função Poder:\n",
    "\n",
    "Deixe $\\delta$ ser um procedimento de teste. A função $\\pi(\\theta|\\delta)$ é chamada de **função poder** do teste $\\delta$. Se $S_1$ denota a região crítica de $\\delta$, então a função poder $\\pi(\\theta|\\delta)$ é determinada pela relação \n",
    "\n",
    "$$\\pi(\\theta|\\delta) = \\Pr(X \\in S_1|\\theta) \\text{ para } \\theta \\in \\Theta$$\n",
    "\n",
    "Como estamos no contexto normal, se $\\delta$ é descrito em termos de uma estatística de teste $T$ e região de rejeição $R$, a função poder é\n",
    "$$\\pi(\\theta|\\delta) = \\Pr(T \\in R|\\theta) \\text{ para } \\theta \\in \\Theta$$\n",
    "\n",
    "Deste modo,\n",
    "\n",
    "$$\\begin{align*}\n",
    "Pr(T \\in R|\\mu) &= Pr(\\bar{X}_n\\ge \\mu_0 + c|\\mu) + Pr(\\bar{X}_n\\le \\mu_0)\\\\\n",
    "&=1-\\Phi\\left(\\sqrt{n}\\frac{\\mu_0+c-\\mu}{\\sigma}\\right)+\\Phi\\left(\\sqrt{n}\\frac{\\mu_0-c-\\mu}{\\sigma}\\right)\n",
    "\\end{align*}\n",
    "$$"
   ]
  },
  {
   "cell_type": "code",
   "execution_count": 26,
   "id": "feb60fe8-0c0f-40c5-95bb-69f1ce4ad605",
   "metadata": {},
   "outputs": [
    {
     "name": "stdout",
     "output_type": "stream",
     "text": [
      "Não rejeitamos a hipótese nula (H0).\n",
      "Média da amostra (X_n): -0.03252352093356799\n",
      "Estatística de teste (T): 0.17813866064806666\n",
      "Valor crítico (c): 1.959963984540054\n"
     ]
    }
   ],
   "source": [
    "# Calculando a média da amostra\n",
    "X_n = np.mean(X)\n",
    "\n",
    "# Calculando a estatística de teste\n",
    "T = np.abs(X_n - mu_0) / (sigma / np.sqrt(n))\n",
    "\n",
    "# Determinando o valor crítico para o nível de significância\n",
    "c = norm.ppf(1 - alpha / 2)\n",
    "\n",
    "# Verificando se rejeitamos a hipótese nula\n",
    "if T >= c:\n",
    "    print(\"Rejeitamos a hipótese nula (H0).\")\n",
    "else:\n",
    "    print(\"Não rejeitamos a hipótese nula (H0).\")\n",
    "\n",
    "# Exibindo os resultados\n",
    "print(f\"Média da amostra (X_n): {X_n}\")\n",
    "print(f\"Estatística de teste (T): {T}\")\n",
    "print(f\"Valor crítico (c): {c}\")"
   ]
  },
  {
   "cell_type": "markdown",
   "id": "75add0db-d394-45fc-859c-7a33fff02d08",
   "metadata": {},
   "source": [
    "# Reamostragem:\n",
    "\n",
    "*Resampling*(reamostragem) em estatística significa amostrar repetidamente valores de dados observados, com o objetivo geral de avaliar a **variabilidade aleatória** em uma estatística. Também pode ser usado para avaliar e melhorar a precisão de alguns modelos de aprendizado de máquina (por exemplo, as previsões de modelos de árvore de decisão construídos em vários conjuntos de dados bootstrapped podem ser médias em um processo conhecido como bagging).\n",
    "\n",
    "Existem dois tipos principais de procedimentos de reamostragem: o ***bootstrap*** e os **testes de permutação**. O *bootstrap* é usado para avaliar a confiabilidade de uma estimativa; e foi discutido em estúdo próprio. Os **testes de permutação** são usados para testar hipóteses, geralmente envolvendo dois ou mais grupos, e discutimos esses testes nesta seção.\n",
    "\n",
    "## Permutation Test\n",
    "\n",
    "Em um procedimento de **permutação**, duas ou mais amostras estão envolvidas, tipicamente os grupos em um teste de hipótese A/B ou outro. **Permutar significa mudar a ordem de um conjunto de valores**. O primeiro passo em um teste de permutação de uma hipótese é combinar os resultados dos grupos A e B (e, se usados, C, D, …). Esta é a incorporação lógica da hipótese nula de que os tratamentos aos quais os grupos foram expostos não diferem. Em seguida, testamos essa hipótese sorteando aleatoriamente grupos deste conjunto combinado e vendo o quanto eles diferem uns dos outros. O procedimento de permutação é o seguinte:\n",
    "\n",
    "* Combine os resultados dos diferentes grupos em um único conjunto de dados.\n",
    "* Embaralhe os dados combinados e, em seguida, sorteie aleatoriamente (sem reposição) uma reamostra do mesmo tamanho do grupo A (claramente conterá alguns dados dos outros grupos).\n",
    "* Dos dados restantes, sorteie aleatoriamente (sem reposição) uma reamostra do mesmo tamanho do grupo B.\n",
    "* Faça o mesmo para os grupos C, D, e assim por diante. Agora você coletou um conjunto de reamostras que espelham os tamanhos das amostras originais.\n",
    "* Qualquer que seja a estatística ou estimativa calculada para as amostras originais (por exemplo, diferença nas proporções dos grupos), calcule-a agora para as reamostras e registre; isso constitui uma iteração de permutação.\n",
    "* Repita os passos anteriores R vezes para obter uma distribuição de permutação da estatística do teste.\n",
    "* Agora volte à diferença observada entre os grupos e compare-a com o conjunto de diferenças permutadas. Se a diferença observada estiver bem dentro do conjunto de diferenças permutadas, então não provamos nada—a diferença observada está dentro do intervalo que o acaso pode produzir. No entanto, se a diferença observada estiver fora da maior parte da distribuição de permutação, então concluímos que o acaso não é responsável. Em termos técnicos, a diferença é estatisticamente significativa. (Veja “Significância Estatística e Valores-p” na página 103)."
   ]
  },
  {
   "cell_type": "code",
   "execution_count": 31,
   "id": "48787e5f-2c88-4ecd-99a1-1ea22ec16c5c",
   "metadata": {},
   "outputs": [],
   "source": [
    "# Instanciando conjunto de dados:\n",
    "session_times = pd.read_csv(WEB_PAGE_DATA_CSV)\n",
    "session_times.Time = 100 * session_times.Time"
   ]
  },
  {
   "cell_type": "code",
   "execution_count": 33,
   "id": "77c60d47-4f1f-4040-b91b-b182716cf5b7",
   "metadata": {},
   "outputs": [
    {
     "data": {
      "image/png": "[encoded data removed]",
      "text/plain": [
       "<Figure size 400x400 with 1 Axes>"
      ]
     },
     "metadata": {},
     "output_type": "display_data"
    }
   ],
   "source": [
    "# Visualizando conjunto de dados:\n",
    "ax = session_times.boxplot(by='Page', column='Time',\n",
    "                           figsize=(4, 4))\n",
    "ax.set_xlabel('')\n",
    "ax.set_ylabel('Time (in seconds)')\n",
    "plt.suptitle('')\n",
    "\n",
    "plt.tight_layout()\n",
    "plt.show()"
   ]
  },
  {
   "cell_type": "code",
   "execution_count": 36,
   "id": "400febb6-f918-46cc-8d46-e8b18102ae6e",
   "metadata": {},
   "outputs": [
    {
     "name": "stdout",
     "output_type": "stream",
     "text": [
      "162.0 126.33333333333333\n",
      "35.66666666666667\n"
     ]
    }
   ],
   "source": [
    "# Média das Páginas:\n",
    "mean_a = session_times[session_times.Page == 'Page A'].Time.mean()\n",
    "mean_b = session_times[session_times.Page == 'Page B'].Time.mean()\n",
    "\n",
    "# Diferença das médias:\n",
    "print(mean_b, mean_a)\n",
    "print(mean_b - mean_a)"
   ]
  },
  {
   "cell_type": "code",
   "execution_count": 46,
   "id": "693e05d8-12e9-4093-8330-c42ad702c577",
   "metadata": {},
   "outputs": [
    {
     "name": "stdout",
     "output_type": "stream",
     "text": [
      "-20.447619047619042\n"
     ]
    }
   ],
   "source": [
    "# Exemplo de teste de permutação com aderência\n",
    "def perm_fun(x, nA, nB):\n",
    "    n = nA + nB\n",
    "    idx_B = set(random.sample(range(n), nB))\n",
    "    idx_A = set(range(n)) - idx_B\n",
    "    return x.loc[list(idx_B)].mean() - x.loc[list(idx_A)].mean()\n",
    "    \n",
    "nA = session_times[session_times.Page == 'Page A'].shape[0]\n",
    "nB = session_times[session_times.Page == 'Page B'].shape[0]\n",
    "print(perm_fun(session_times.Time, nA, nB))"
   ]
  },
  {
   "cell_type": "code",
   "execution_count": 48,
   "id": "f039817c-128c-46c9-8740-5435e88a86ec",
   "metadata": {},
   "outputs": [
    {
     "data": {
      "image/png": "[encoded data removed]",
      "text/plain": [
       "<Figure size 500x500 with 1 Axes>"
      ]
     },
     "metadata": {},
     "output_type": "display_data"
    }
   ],
   "source": [
    "# Visualização:\n",
    "random.seed(1)\n",
    "perm_diffs = [perm_fun(session_times.Time, nA, nB) for _ in range(1000)]\n",
    "\n",
    "fig, ax = plt.subplots(figsize=(5, 5))\n",
    "ax.hist(perm_diffs, bins=11, rwidth=0.9)\n",
    "ax.axvline(x = mean_b - mean_a, color='black', lw=2)\n",
    "ax.text(50, 190, 'Observed\\ndifference', bbox={'facecolor':'white'})\n",
    "ax.set_xlabel('Session time differences (in seconds)')\n",
    "ax.set_ylabel('Frequency')\n",
    "\n",
    "plt.tight_layout()\n",
    "plt.show()"
   ]
  },
  {
   "cell_type": "code",
   "execution_count": 50,
   "id": "dc016ddc-5a86-4952-b93f-4d461dfbae0c",
   "metadata": {},
   "outputs": [
    {
     "name": "stdout",
     "output_type": "stream",
     "text": [
      "0.121\n"
     ]
    }
   ],
   "source": [
    "# converte perm_diffs em numpy array:\n",
    "perm_diffs = np.array(perm_diffs)\n",
    "print(np.mean(perm_diffs > mean_b - mean_a))"
   ]
  }
 ],
 "metadata": {
  "kernelspec": {
   "display_name": "Python 3 (ipykernel)",
   "language": "python",
   "name": "python3"
  },
  "language_info": {
   "codemirror_mode": {
    "name": "ipython",
    "version": 3
   },
   "file_extension": ".py",
   "mimetype": "text/x-python",
   "name": "python",
   "nbconvert_exporter": "python",
   "pygments_lexer": "ipython3",
   "version": "3.10.13"
  }
 },
 "nbformat": 4,
 "nbformat_minor": 5
}
