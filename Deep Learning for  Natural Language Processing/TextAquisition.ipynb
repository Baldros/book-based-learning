{
 "cells": [
  {
   "cell_type": "markdown",
   "id": "aa7adbb0-4a73-4976-a24a-f83279379668",
   "metadata": {},
   "source": [
    "# Apresentação:\n",
    "\n",
    "O objetivo aqui é construir um processo de aquisição de textos para o estudo de Processamento de Linguagem Natural. Com o processo estruturado, os códigos aqui construídos serão transferidos para um módulo para utilização em outros códigos.\n",
    "\n",
    "## Links úteis:\n",
    "* Documentação: https://beautiful-soup-4.readthedocs.io/en/latest/\n",
    "* Vídeo(Let's Data): https://www.youtube.com/watch?v=aNtzKGTujuA"
   ]
  },
  {
   "cell_type": "code",
   "execution_count": 28,
   "id": "766baec9-f12b-4465-8052-5a34b0acaefc",
   "metadata": {},
   "outputs": [],
   "source": [
    "# Importações:\n",
    "import requests\n",
    "from bs4 import BeautifulSoup\n",
    "import GetText"
   ]
  },
  {
   "cell_type": "code",
   "execution_count": 32,
   "id": "45038483-f4f5-4498-a210-ec317fd5d69f",
   "metadata": {},
   "outputs": [],
   "source": [
    "# Página:\n",
    "url = 'https://www.gutenberg.org/cache/epub/5200/pg5200.txt'"
   ]
  },
  {
   "cell_type": "code",
   "execution_count": 33,
   "id": "9fc8a379-a0e8-4294-b9ce-66e15d03b6b9",
   "metadata": {},
   "outputs": [],
   "source": [
    "text = GetText.requisition(url)"
   ]
  },
  {
   "cell_type": "code",
   "execution_count": 37,
   "id": "a46cd253-a859-419a-b52c-429ef2e9c6c4",
   "metadata": {},
   "outputs": [],
   "source": [
    "with open('Metamorphosis','w', encoding='utf-8') as arq:\n",
    "    arq.write(text)"
   ]
  },
  {
   "cell_type": "code",
   "execution_count": null,
   "id": "6d333f7f-32c6-4a48-b12e-1754ff7e5397",
   "metadata": {},
   "outputs": [],
   "source": []
  }
 ],
 "metadata": {
  "kernelspec": {
   "display_name": "Python 3 (ipykernel)",
   "language": "python",
   "name": "python3"
  },
  "language_info": {
   "codemirror_mode": {
    "name": "ipython",
    "version": 3
   },
   "file_extension": ".py",
   "mimetype": "text/x-python",
   "name": "python",
   "nbconvert_exporter": "python",
   "pygments_lexer": "ipython3",
   "version": "3.10.13"
  }
 },
 "nbformat": 4,
 "nbformat_minor": 5
}
